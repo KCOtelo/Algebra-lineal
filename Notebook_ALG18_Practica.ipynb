{
 "cells": [
  {
   "cell_type": "markdown",
   "metadata": {},
   "source": [
    "# Practica de Algebra lineal\n",
    "\n",
    "### *Nombre*"
   ]
  },
  {
   "cell_type": "markdown",
   "metadata": {},
   "source": [
    "<span style=\"color:blue\">Ejercicio 1:  \n",
    "Usando los procedimientos add y mult_vector_escalar definidos anteriormente, calcular:   \n",
    "{$\\alpha$[1,2]+[3,4] : $\\alpha$$\\in$$\\mathbb{R}$, 0$\\leq$$\\alpha$$\\leq$1, con una precision de dos decimales (para la multiplicación)}</style>"
   ]
  },
  {
   "cell_type": "code",
   "execution_count": 1,
   "metadata": {},
   "outputs": [
    {
     "data": {
      "text/plain": [
       "[[3.0, 4.0],\n",
       " [3.01, 4.02],\n",
       " [3.02, 4.04],\n",
       " [3.03, 4.06],\n",
       " [3.04, 4.08],\n",
       " [3.05, 4.1],\n",
       " [3.06, 4.12],\n",
       " [3.07, 4.14],\n",
       " [3.08, 4.16],\n",
       " [3.09, 4.18],\n",
       " [3.1, 4.2],\n",
       " [3.11, 4.22],\n",
       " [3.12, 4.24],\n",
       " [3.13, 4.26],\n",
       " [3.14, 4.28],\n",
       " [3.15, 4.3],\n",
       " [3.16, 4.32],\n",
       " [3.17, 4.34],\n",
       " [3.18, 4.36],\n",
       " [3.19, 4.38],\n",
       " [3.2, 4.4],\n",
       " [3.21, 4.42],\n",
       " [3.22, 4.44],\n",
       " [3.23, 4.46],\n",
       " [3.24, 4.48],\n",
       " [3.25, 4.5],\n",
       " [3.26, 4.52],\n",
       " [3.27, 4.54],\n",
       " [3.28, 4.56],\n",
       " [3.29, 4.58],\n",
       " [3.3, 4.6],\n",
       " [3.31, 4.62],\n",
       " [3.32, 4.64],\n",
       " [3.33, 4.66],\n",
       " [3.34, 4.68],\n",
       " [3.35, 4.7],\n",
       " [3.36, 4.72],\n",
       " [3.37, 4.74],\n",
       " [3.38, 4.76],\n",
       " [3.39, 4.78],\n",
       " [3.4, 4.8],\n",
       " [3.41, 4.82],\n",
       " [3.42, 4.84],\n",
       " [3.43, 4.86],\n",
       " [3.44, 4.88],\n",
       " [3.45, 4.9],\n",
       " [3.46, 4.92],\n",
       " [3.47, 4.94],\n",
       " [3.48, 4.96],\n",
       " [3.49, 4.98],\n",
       " [3.5, 5.0],\n",
       " [3.51, 5.02],\n",
       " [3.52, 5.04],\n",
       " [3.53, 5.06],\n",
       " [3.54, 5.08],\n",
       " [3.55, 5.1],\n",
       " [3.56, 5.12],\n",
       " [3.57, 5.14],\n",
       " [3.58, 5.16],\n",
       " [3.59, 5.18],\n",
       " [3.6, 5.2],\n",
       " [3.61, 5.22],\n",
       " [3.62, 5.24],\n",
       " [3.63, 5.26],\n",
       " [3.64, 5.28],\n",
       " [3.65, 5.3],\n",
       " [3.66, 5.32],\n",
       " [3.67, 5.34],\n",
       " [3.68, 5.36],\n",
       " [3.69, 5.38],\n",
       " [3.7, 5.4],\n",
       " [3.71, 5.42],\n",
       " [3.72, 5.44],\n",
       " [3.73, 5.46],\n",
       " [3.74, 5.48],\n",
       " [3.75, 5.5],\n",
       " [3.76, 5.52],\n",
       " [3.77, 5.54],\n",
       " [3.78, 5.56],\n",
       " [3.79, 5.58],\n",
       " [3.8, 5.6],\n",
       " [3.81, 5.62],\n",
       " [3.82, 5.64],\n",
       " [3.83, 5.66],\n",
       " [3.84, 5.68],\n",
       " [3.85, 5.7],\n",
       " [3.86, 5.72],\n",
       " [3.87, 5.74],\n",
       " [3.88, 5.76],\n",
       " [3.89, 5.78],\n",
       " [3.9, 5.8],\n",
       " [3.91, 5.82],\n",
       " [3.92, 5.84],\n",
       " [3.93, 5.86],\n",
       " [3.94, 5.88],\n",
       " [3.95, 5.9],\n",
       " [3.96, 5.92],\n",
       " [3.97, 5.94],\n",
       " [3.98, 5.96],\n",
       " [3.99, 5.98],\n",
       " [4.0, 6.0]]"
      ]
     },
     "execution_count": 1,
     "metadata": {},
     "output_type": "execute_result"
    }
   ],
   "source": [
    "# Multiplicación de un vector por un escalar\n",
    "def mult_vector_escalar(alpha,v):\n",
    "    return [alpha*v[i] for i in range(len(v))]\n",
    "\n",
    "# Suma de dos vectores.\n",
    "# He añadido el redondeo ya que en algunos casos salian muchos decimales 0's o 9's\n",
    "def add(v,w):   \n",
    "    return [round(v[0]+w[0],2),round(v[1]+w[1],2)]\n",
    "\n",
    "u = [1,2]\n",
    "v = [3,4]\n",
    "\n",
    "[add(mult_vector_escalar(float(i)/100,u),v) for i in range(101)]"
   ]
  },
  {
   "cell_type": "markdown",
   "metadata": {},
   "source": [
    "<span style=\"color:blue\">Ejercicio 2:  \n",
    "Mortadelo y Filemón usan como clave el siguiente vector:</style>  \n",
    "> <span style=\"color:blue\">**k**=[0,1,0,0,1,0,1,0,1,0]</style>  \n",
    "\n",
    "<span style=\"color:blue\">Mortadelo quiere enviarle a Filemón el siguiente mensaje:</style>  \n",
    "> <span style=\"color:blue\">**p**=[0,0,0,1,1,1,0,1,0,1]</style>  \n",
    "\n",
    "<span style=\"color:blue\">Mortadelo encripta su mensaje añadiendo k:</style>  \n",
    "> <span style=\"color:blue\">**c**=**p**+**k**=[0,0,0,1,1,1,0,1,0,1]+[0,1,0,0,1,0,1,0,1,0]=[0,1,0,1,0,1,1,1,1,1]</style>  \n",
    "\n",
    "<span style=\"color:blue\">Cuando Filemón recibe el mensaje, lo desencripta añadiendo **k** a lo que ha recibido</style>  \n",
    "> <span style=\"color:blue\">**p**=**c**+**k**=[0,1,0,1,0,1,1,1,1,1]+[0,1,0,0,1,0,1,0,1,0]=[0,0,0,1,1,1,0,1,0,1]</style>    \n",
    "\n",
    "<span style=\"color:blue\">que es el mensaje original</style>    \n",
    "  \n",
    " <span style=\"color:blue\">¿Cómo lo harías en Python? (Definiendo un procedimiento)</style>  "
   ]
  },
  {
   "cell_type": "code",
   "execution_count": 2,
   "metadata": {
    "collapsed": true
   },
   "outputs": [],
   "source": [
    "# Función que realiza la operación XOR entre cada de elementos de los dos vectores\n",
    "def encdec(p,k):\n",
    "    if len(p) == len(k):\n",
    "        # Si los dos vectores tienen la misma longitud, hacemos una XOR de cada elemento\n",
    "        return [p[i] ^ k[i] for i in range(len(p))]"
   ]
  },
  {
   "cell_type": "code",
   "execution_count": 3,
   "metadata": {},
   "outputs": [
    {
     "name": "stdout",
     "output_type": "stream",
     "text": [
      "('Palabra original: ', [0, 0, 0, 1, 1, 1, 0, 1, 0, 1])\n",
      "('Palabra encriptada con la clave k: ', [0, 1, 0, 1, 0, 1, 1, 1, 1, 1])\n",
      "('Palabra decodificada con la clave k: ', [0, 0, 0, 1, 1, 1, 0, 1, 0, 1])\n",
      "¡¡ YUPI !!! La palabra original coincide con la que se ha decodificado.\n"
     ]
    }
   ],
   "source": [
    "# Probamos la función\n",
    "p = [0,0,0,1,1,1,0,1,0,1] \n",
    "k = [0,1,0,0,1,0,1,0,1,0] \n",
    "\n",
    "print(\"Palabra original: \",p)\n",
    "\n",
    "enc = encdec(p,k)\n",
    "print(\"Palabra encriptada con la clave k: \",enc)\n",
    "\n",
    "dec = encdec(enc,k)\n",
    "print(\"Palabra decodificada con la clave k: \",dec)\n",
    "\n",
    "if p == dec:\n",
    "    print(\"¡¡ YUPI !!! La palabra original coincide con la que se ha decodificado.\")\n",
    "else:\n",
    "    print(\"!! HUSTON WE HAVE A PROBLEM !!\")"
   ]
  },
  {
   "cell_type": "markdown",
   "metadata": {},
   "source": [
    "<span style=\"color:blue\">Ejercicio 3: coste total o beneficio. </style>\n",
    "\n",
    "<span style=\"color:blue\">Supongamos que D es el conjunto de algunos ingredientes de la cerveza: </style>\n",
    "> <span style=\"color:blue\">D={lúpulo, malta, agua, levadura}</style>  \n",
    "\n",
    "<span style=\"color:blue\">Por otro lado tenemos el vector coste:</style>  \n",
    "> <span style=\"color:blue\">coste={lúpulo: 2,5€, malta: 1.5€, agua: 0.006€, levadura: 0,45€}</style>  \n",
    "\n",
    "<span style=\"color:blue\">Por último tenemos el vector cantidad con lo necesario para hacer una cerveza:</style>  \n",
    "> <span style=\"color:blue\">cantidad={lúpulo: 6u, malta: 14u, agua: 7u, levadura: 11u}</style>  \n",
    "\n",
    "<span style=\"color:blue\">¿Cuánto cuesta hacer una cerveza?</style> "
   ]
  },
  {
   "cell_type": "code",
   "execution_count": 4,
   "metadata": {
    "collapsed": true
   },
   "outputs": [],
   "source": [
    "# Multiplicación de dos vectores de cualquier longitud\n",
    "def producto_vectorial(u,v):\n",
    "    return sum(u[i]*v[i] for i in range(len(u)))"
   ]
  },
  {
   "cell_type": "code",
   "execution_count": 5,
   "metadata": {},
   "outputs": [
    {
     "name": "stdout",
     "output_type": "stream",
     "text": [
      "('El coste de nuestra cerveca es: ', 40.99)\n"
     ]
    }
   ],
   "source": [
    "D = {\"lupulo\", \"malta\", \"agua\", \"levadura\"} \n",
    "coste = [2.5,1.5,0.006,0.45]\n",
    "cantidad = [6,14,7,11]\n",
    "coste = producto_vectorial(coste,cantidad)\n",
    "print(\"El coste de nuestra cerveca es: \",round(coste,2))"
   ]
  },
  {
   "cell_type": "markdown",
   "metadata": {},
   "source": [
    "<span style=\"color:blue\"> Ejercicio 4:   \n",
    "¿Cómo escribirías cada uno de los vectores {[3,0,0],[0,2,0],[0,0,1]} como combinación lineal de {[2,0,1],[1,0,2],[2,2,2]}?\n",
    "Escribe las combinaciones lineales en Python. Seguramente tenga que definir una nueva suma.</style>"
   ]
  },
  {
   "cell_type": "code",
   "execution_count": 6,
   "metadata": {
    "collapsed": true
   },
   "outputs": [],
   "source": [
    "# Suma tres vectores de cualquier longitud\n",
    "def addn(u,v,w):\n",
    "    return[u[i] + v[i]+w[i] for i in range(len(v))]\n",
    "\n",
    "# Producto de un escalar por un vector\n",
    "def mult_vector_escalar(alpha,v):\n",
    "    return [alpha*v[i] for i in range(len(v))]"
   ]
  },
  {
   "cell_type": "code",
   "execution_count": 7,
   "metadata": {},
   "outputs": [
    {
     "data": {
      "text/plain": [
       "[3, 0, 0]"
      ]
     },
     "execution_count": 7,
     "metadata": {},
     "output_type": "execute_result"
    }
   ],
   "source": [
    "v1 = [3,0,0]\n",
    "u1 = [2,0,1]\n",
    "u2 = [1,0,2]\n",
    "u3 = [2,2,2]\n",
    "# [3,0,0] como combinación lineal de [2,0,1],[1,0,2],[2,2,2], es decir:\n",
    "# v1 = c1*u1 + c2*u2 + c3*u3\n",
    "# Tenemos un sistema de 3 ecuaciones con 3 incóginitas\n",
    "# 3 = 2c1 + c2 +2c3\n",
    "# 0 = 2c3\n",
    "# 0 = c1 + 2c2 + 2c3\n",
    "# Resolviendo el sistema tenemos los coeficientes [2,-1,0]\n",
    "\n",
    "coef = [2,-1,0]\n",
    "resultado = addn(mult_vector_escalar(coef[0],u1),\n",
    "          mult_vector_escalar(coef[1],u2),\n",
    "          mult_vector_escalar(coef[2],u3))\n",
    "\n",
    "assert v1 == resultado,\"Resultado erroneo\"\n",
    "resultado"
   ]
  },
  {
   "cell_type": "code",
   "execution_count": 8,
   "metadata": {},
   "outputs": [
    {
     "data": {
      "text/plain": [
       "[0.0, 2.0, 0.0]"
      ]
     },
     "execution_count": 8,
     "metadata": {},
     "output_type": "execute_result"
    }
   ],
   "source": [
    "v2 = [0,2,0]\n",
    "\n",
    "# [0,2,0] como combinación lineal de [2,0,1],[1,0,2],[2,2,2], es decir:\n",
    "# v1 = c1*u1 + c2*u2 + c3*u3\n",
    "# Tenemos un sistema de 3 ecuaciones con 3 incóginitas\n",
    "# 0 = 2c1 + c2 +2c3\n",
    "# 2 = 2c3\n",
    "# 0 = c1 + 2c2 + 2c3\n",
    "# Resolviendo el sistema tenemos los coeficientes [-2/3,-2/3,1]\n",
    "\n",
    "coef = [-2/3.0,-2/3.0,1]\n",
    "\n",
    "resultado = addn(mult_vector_escalar(coef[0],u1),\n",
    "          mult_vector_escalar(coef[1],u2),\n",
    "          mult_vector_escalar(coef[2],u3))\n",
    "\n",
    "assert v2 == resultado,\"Resultado erroneo\"\n",
    "resultado"
   ]
  },
  {
   "cell_type": "code",
   "execution_count": 9,
   "metadata": {},
   "outputs": [
    {
     "data": {
      "text/plain": [
       "[0.0, 0.0, 1.0]"
      ]
     },
     "execution_count": 9,
     "metadata": {},
     "output_type": "execute_result"
    }
   ],
   "source": [
    "v3 = [0,0,1]\n",
    "\n",
    "# [0,0,1] como combinación lineal de [2,0,1],[1,0,2],[2,2,2], es decir:\n",
    "# v1 = c1*u1 + c2*u2 + c3*u3\n",
    "# Tenemos un sistema de 3 ecuaciones con 3 incóginitas\n",
    "# 0 = 2c1 + c2 +2c3\n",
    "# 0 = 2c3\n",
    "# 1 = c1 + 2c2 + 2c3\n",
    "# Resolviendo el sistema tenemos los coeficientes [-1/3,2/3,0]\n",
    "\n",
    "coef = [-1/3.0,2/3.0,0]\n",
    "resultado = addn(mult_vector_escalar(coef[0],u1),\n",
    "          mult_vector_escalar(coef[1],u2),\n",
    "          mult_vector_escalar(coef[2],u3))\n",
    "\n",
    "assert v3 == resultado,\"Resultado erroneo\"\n",
    "resultado"
   ]
  },
  {
   "cell_type": "markdown",
   "metadata": {},
   "source": [
    "<span style=\"color:blue\"> Ejercicio 5:  \n",
    "Dadas las matrices $\n",
    "  A=\n",
    "  \\left[ {\\begin{array}{cc}\n",
    "   2 & -3 \\\\\n",
    "   -4 & 6\\\\\n",
    "  \\end{array} } \\right]\n",
    "$ , $\n",
    "  B=\n",
    "  \\left[ {\\begin{array}{cc}\n",
    "   8 & 4 \\\\\n",
    "   5 & 5\\\\\n",
    "  \\end{array} } \\right]\n",
    "$\n",
    "y $\n",
    "  C=\n",
    "  \\left[ {\\begin{array}{cc}\n",
    "   5 & -2 \\\\\n",
    "   3 & 1\\\\\n",
    "  \\end{array} } \\right]\n",
    "$, queremos verificar que AB=AC pero que B≠C.</style> "
   ]
  },
  {
   "cell_type": "code",
   "execution_count": 10,
   "metadata": {},
   "outputs": [
    {
     "data": {
      "text/plain": [
       "matrix([[ 1, -7],\n",
       "        [-2, 14]])"
      ]
     },
     "execution_count": 10,
     "metadata": {},
     "output_type": "execute_result"
    }
   ],
   "source": [
    "import numpy as np\n",
    "\n",
    "A = np.matrix([\n",
    "    [2,-3],\n",
    "    [-4,6]\n",
    "])\n",
    "B = np.matrix([\n",
    "    [8,4],\n",
    "    [5,5]\n",
    "])\n",
    "C = np.matrix([\n",
    "    [5,-2],\n",
    "    [3,1]\n",
    "])\n",
    "\n",
    "A*B"
   ]
  },
  {
   "cell_type": "code",
   "execution_count": 11,
   "metadata": {},
   "outputs": [
    {
     "data": {
      "text/plain": [
       "matrix([[ 1, -7],\n",
       "        [-2, 14]])"
      ]
     },
     "execution_count": 11,
     "metadata": {},
     "output_type": "execute_result"
    }
   ],
   "source": [
    "A*C"
   ]
  },
  {
   "cell_type": "markdown",
   "metadata": {},
   "source": [
    "Vemos que A*B = A*C de todas formas lo comprobamos"
   ]
  },
  {
   "cell_type": "code",
   "execution_count": 12,
   "metadata": {},
   "outputs": [
    {
     "data": {
      "text/plain": [
       "True"
      ]
     },
     "execution_count": 12,
     "metadata": {},
     "output_type": "execute_result"
    }
   ],
   "source": [
    "np.array_equal(A*B,A*C)"
   ]
  },
  {
   "cell_type": "markdown",
   "metadata": {},
   "source": [
    "Comprobamos tambien que B ≠ C"
   ]
  },
  {
   "cell_type": "code",
   "execution_count": 13,
   "metadata": {},
   "outputs": [
    {
     "data": {
      "text/plain": [
       "False"
      ]
     },
     "execution_count": 13,
     "metadata": {},
     "output_type": "execute_result"
    }
   ],
   "source": [
    "np.array_equal(B,C)"
   ]
  },
  {
   "cell_type": "markdown",
   "metadata": {},
   "source": [
    "<span style=\"color:blue\"> Ejercicio 6 :  \n",
    "Dadas la matriz $\n",
    "  A=\n",
    "  \\left[ {\\begin{array}{cc}\n",
    "   3 & -6 \\\\\n",
    "   -1 & 2\\\\\n",
    "  \\end{array} } \\right]\n",
    "$ , construye una matriz B de 2 × 2 tal que AB sea igual a la matriz cero. Las columnas de B no deben ser iguales entre sí y deben ser distintas de cero.\n",
    ".</style> "
   ]
  },
  {
   "cell_type": "code",
   "execution_count": 14,
   "metadata": {},
   "outputs": [
    {
     "data": {
      "text/plain": [
       "matrix([[0, 0],\n",
       "        [0, 0]])"
      ]
     },
     "execution_count": 14,
     "metadata": {},
     "output_type": "execute_result"
    }
   ],
   "source": [
    "A = np.matrix([\n",
    "    [3,-6],\n",
    "    [-1,2]\n",
    "])\n",
    "\n",
    "B = np.matrix([\n",
    "    [2,2],\n",
    "    [1,1]\n",
    "])\n",
    "\n",
    "A * B"
   ]
  },
  {
   "cell_type": "markdown",
   "metadata": {},
   "source": [
    "<span style=\"color:blue\"> Ejercicio 7:  \n",
    "Sarrus para el determinante de orden 3.  \n",
    "¿Cómo lo haríamos en Python?</style>"
   ]
  },
  {
   "cell_type": "code",
   "execution_count": 15,
   "metadata": {
    "collapsed": true
   },
   "outputs": [],
   "source": [
    "def sarrus_det3(a):\n",
    "    # nos aseguramos que \"a\" es 3x3\n",
    "    if a.shape == (3,3):\n",
    "        sum1 = a[0,0]*a[1,1]*a[2,2] + a[0,1]*a[1,2]*a[2,0] + a[0,2]*a[1,0]*a[2,1]\n",
    "        sum2 = a[0,2]*a[1,1]*a[2,0] + a[0,1]*a[1,0]*a[2,2] + a[0,0]*a[1,2]*a[2,1]\n",
    "        return sum1 - sum2"
   ]
  },
  {
   "cell_type": "markdown",
   "metadata": {},
   "source": [
    "Comprobaremos que funciona con 100 matrices aleatorias de enteros entre -100 y 100"
   ]
  },
  {
   "cell_type": "code",
   "execution_count": 16,
   "metadata": {},
   "outputs": [
    {
     "name": "stdout",
     "output_type": "stream",
     "text": [
      "Prueba OK\n"
     ]
    }
   ],
   "source": [
    "for i in range(100):\n",
    "    random_matrix = np.random.randint(-100,100,(3,3))\n",
    "    \n",
    "    sarrus_det = sarrus_det3(random_matrix)\n",
    "    np_det     = round(np.linalg.det(random_matrix))\n",
    "    \n",
    "    assert sarrus_det == np_det, \"Errooooooooor\"\n",
    "print \"Prueba OK\""
   ]
  },
  {
   "cell_type": "markdown",
   "metadata": {},
   "source": [
    "<span style=\"color:blue\"> Ejercicio 8:  \n",
    "Sabemos que hay un modo directo en Python para calcular los rangos. Calcula el número de soluciones de estos tres sistemas de ecuaciones empleándolo.</style> "
   ]
  },
  {
   "cell_type": "markdown",
   "metadata": {},
   "source": [
    "> <span style=\"color:blue\">x<sub>1</sub> − 2x<sub>2</sub> + x<sub>3</sub> = 0 </style>  \n",
    "> <span style=\"color:blue\">2x<sub>2</sub>−8x<sub>3</sub>= 8  </style>  \n",
    "> <span style=\"color:blue\">−4x<sub>1</sub> + 5x<sub>2</sub> + 9x<sub>3</sub> =− 9</style>"
   ]
  },
  {
   "cell_type": "code",
   "execution_count": 17,
   "metadata": {},
   "outputs": [
    {
     "name": "stdout",
     "output_type": "stream",
     "text": [
      "Sistema compatible determinado -> 1 Solución\n"
     ]
    }
   ],
   "source": [
    "import numpy as np\n",
    "\n",
    "def soluciones(A,A_amp):\n",
    "    rangoA = np.linalg.matrix_rank(A)\n",
    "    rangoA_amp = np.linalg.matrix_rank(A_amp)\n",
    "    n = A.shape[1] # Número de variables\n",
    "    if rangoA == rangoA_amp:\n",
    "        if rangoA == n:\n",
    "            print(\"Sistema compatible determinado -> 1 Solución\")\n",
    "        else:\n",
    "            print(\"Sistema compatible indeterminado -> Infinitas soluciones\")\n",
    "    else:\n",
    "        print(\"Sistema incompatible. No tiene solucion\")\n",
    "\n",
    "A = np.matrix([\n",
    "    [1,-2,1],\n",
    "    [0,2,-8],\n",
    "    [-4,5,9]\n",
    "])\n",
    "A_amp = np.matrix([\n",
    "    [1,-2,1,0],\n",
    "    [0,2,-8,8],\n",
    "    [-4,5,9,9]\n",
    "])\n",
    "soluciones(A,A_amp)"
   ]
  },
  {
   "cell_type": "markdown",
   "metadata": {},
   "source": [
    "> <span style=\"color:blue\">x<sub>2</sub> −4x<sub>3</sub> =8  </style>  \n",
    "> <span style=\"color:blue\">2x<sub>1</sub> −3x<sub>2</sub> + 2x<sub>3</sub> =1  </style>  \n",
    "> <span style=\"color:blue\">5x<sub>1</sub> −8x<sub>2</sub> + 7x<sub>3</sub> =1</style>"
   ]
  },
  {
   "cell_type": "code",
   "execution_count": 18,
   "metadata": {},
   "outputs": [
    {
     "name": "stdout",
     "output_type": "stream",
     "text": [
      "Sistema incompatible. No tiene solucion\n"
     ]
    }
   ],
   "source": [
    "A = np.matrix([\n",
    "    [0,1,-4],\n",
    "    [2,-3,2],\n",
    "    [5,-8,7]\n",
    "])\n",
    "A_amp = np.matrix([\n",
    "    [0,1,-4,8],\n",
    "    [2,-3,2,1],\n",
    "    [5,-8,7,1]\n",
    "])\n",
    "soluciones(A,A_amp)"
   ]
  },
  {
   "cell_type": "markdown",
   "metadata": {},
   "source": [
    "> <span style=\"color:blue\">x<sub>1</sub> +x<sub>3</sub> =2  </style>  \n",
    "> <span style=\"color:blue\">2x<sub>1</sub> +3x<sub>2</sub> + x<sub>3</sub> =3  </style>  \n",
    "> <span style=\"color:blue\">3x<sub>1</sub> +3x<sub>2</sub> + 2x<sub>3</sub> =5</style>"
   ]
  },
  {
   "cell_type": "code",
   "execution_count": 19,
   "metadata": {},
   "outputs": [
    {
     "name": "stdout",
     "output_type": "stream",
     "text": [
      "Sistema compatible indeterminado -> Infinitas soluciones\n"
     ]
    }
   ],
   "source": [
    "A = np.matrix([\n",
    "    [1,0,1],\n",
    "    [2,3,1],\n",
    "    [3,3,2]\n",
    "])\n",
    "A_amp = np.matrix([\n",
    "    [1,0,1,2],\n",
    "    [2,3,1,3],\n",
    "    [3,3,2,5]\n",
    "])\n",
    "soluciones(A,A_amp)"
   ]
  },
  {
   "cell_type": "markdown",
   "metadata": {},
   "source": [
    "<span style=\"color:blue\"> Ejercicio 9:  \n",
    "Comprobar que r(x,y) para un ángulo $\\theta$ es una función lineal.</style> "
   ]
  },
  {
   "cell_type": "markdown",
   "metadata": {},
   "source": [
    "Sabemos que:   \n",
    "\n",
    "r([x , y ]) = $\\left[ {\\begin{array}{cc}\n",
    "   cos\\theta & -sin\\theta \\\\\n",
    "   sin\\theta & cos\\theta \\\\\n",
    "  \\end{array} } \\right]$ ∗ $\\left[ {\\begin{array}{cc}\n",
    "  x\\\\\n",
    "  y\\\\\n",
    "  \\end{array} } \\right]$\n",
    "\n",
    "Para que sea una función lineal debe cumplir:  \n",
    "* Para cada vector v en V y cada escalar α en F, f (αv) = αf(v)  \n",
    "* Por cada dos vectores u y v en V, f (u + v) = f (u) + f (v)  \n",
    "\n",
    "Veamos cada punto:  \n",
    "* r(α[x,y]) = $\\left[ {\\begin{array}{cc}\n",
    "   cos\\theta & -sin\\theta \\\\\n",
    "   sin\\theta & cos\\theta \\\\\n",
    "  \\end{array} } \\right]$ ∗ α $\\left[ {\\begin{array}{cc}\n",
    "  x\\\\\n",
    "  y\\\\\n",
    "  \\end{array} } \\right]$ =  $\\left[ {\\begin{array}{cc}\n",
    "   cos\\theta & -sin\\theta \\\\\n",
    "   sin\\theta & cos\\theta \\\\\n",
    "  \\end{array} } \\right]$ ∗ $\\left[ {\\begin{array}{cc}\n",
    "  αx\\\\\n",
    "  αy\\\\\n",
    "  \\end{array} } \\right]$  =\n",
    "   $\\left[ {\\begin{array}{cc}\n",
    "   αxcos\\theta -αysin\\theta \\\\\n",
    "   αxsin\\theta +αycos\\theta \\\\\n",
    "  \\end{array} } \\right]$ =\n",
    "  α $\\left[ {\\begin{array}{cc}\n",
    "   xcos\\theta -ysin\\theta \\\\\n",
    "   xsin\\theta +ycos\\theta \\\\\n",
    "  \\end{array} } \\right]$ =  \n",
    "  = α $\\left[ {\\begin{array}{cc}\n",
    "   cos\\theta & -sin\\theta \\\\\n",
    "   sin\\theta & cos\\theta \\\\\n",
    "  \\end{array} } \\right]$ ∗ $\\left[ {\\begin{array}{cc}\n",
    "  x\\\\\n",
    "  y\\\\\n",
    "  \\end{array} } \\right]$ =\n",
    "  α r([x,y])  \n",
    "  \n",
    "  \n",
    "* r([x,y] + [z,t]) = $\\left[ {\\begin{array}{cc}\n",
    "   cos\\theta & -sin\\theta \\\\\n",
    "   sin\\theta & cos\\theta \\\\\n",
    "  \\end{array} } \\right]$ ∗ $\\left[ {\\begin{array}{cc}\n",
    "  x + z\\\\\n",
    "  y + t\\\\\n",
    "  \\end{array} } \\right]$  =\n",
    "   $\\left[ {\\begin{array}{cc}\n",
    "   xcos\\theta +zcos\\theta -ysin\\theta-tsin\\theta \\\\\n",
    "   xsin\\theta+zsin\\theta + ycos\\theta+tcos\\theta  \\\\\n",
    "  \\end{array} } \\right]$ =\n",
    "   $\\left[ {\\begin{array}{cc}\n",
    "   xcos\\theta -ysin\\theta \\\\\n",
    "   xsin\\theta +ycos\\theta \\\\\n",
    "  \\end{array} } \\right]$ +\n",
    "   $\\left[ {\\begin{array}{cc}\n",
    "   zcos\\theta -tsin\\theta \\\\\n",
    "   zsin\\theta +tcos\\theta  \\\\\n",
    "  \\end{array} } \\right]$ =\n",
    "\n",
    "  =$\\left[ {\\begin{array}{cc}\n",
    "   cos\\theta & -sin\\theta \\\\\n",
    "   sin\\theta & cos\\theta \\\\\n",
    "  \\end{array} } \\right]$ ∗ $\\left[ {\\begin{array}{cc}\n",
    "  x\\\\\n",
    "  y\\\\\n",
    "  \\end{array} } \\right]$ +\n",
    "  $\\left[ {\\begin{array}{cc}\n",
    "   cos\\theta & -sin\\theta \\\\\n",
    "   sin\\theta & cos\\theta \\\\\n",
    "  \\end{array} } \\right]$ ∗ $\\left[ {\\begin{array}{cc}\n",
    "  z\\\\\n",
    "  t\\\\\n",
    "  \\end{array} } \\right]$ = r([x,y]) + r([z,t])\n",
    "\n"
   ]
  },
  {
   "cell_type": "markdown",
   "metadata": {},
   "source": [
    "<span style=\"color:blue\"> Ejercicio 10:  \n",
    "¿Cuál es la representación coordenada del vector v= [6, 3, 2, 5] en términos de los vectores [2, 2, 2, 3], [1, 0, −1, 0], [0, 1, 0, 1]?</style> "
   ]
  },
  {
   "cell_type": "markdown",
   "metadata": {},
   "source": [
    "Se trata de resolver A * X = B siendo:\n",
    "\n",
    "A = $\\left[ {\\begin{array}{cc}\n",
    "   2 & 1 & 0 \\\\\n",
    "   2 & 0 & 1 \\\\\n",
    "   2 & -1 & 0 \\\\\n",
    "   3 & 0 & 1 \\\\   \n",
    "   \\end{array} } \\right]$      y\n",
    "B = $\\left[ {\\begin{array}{cc}\n",
    "   6 \\\\\n",
    "   3 \\\\\n",
    "   2 \\\\\n",
    "   5 \\\\   \n",
    "  \\end{array} } \\right]$  \n",
    "  \n",
    "Si la matriz A fuese invertible podríamos hacer X = A<sup>-1</sup>B , pero como no es cuadrada no es invertible y tendremos que resolverlo de otra manera.  \n",
    "Por la misma razón no funciona el solve de la libreria linalg.  \n",
    "La forma mas rápida usando python seria con la libreria sympy de la siguiente manera"
   ]
  },
  {
   "cell_type": "code",
   "execution_count": 20,
   "metadata": {},
   "outputs": [
    {
     "name": "stdout",
     "output_type": "stream",
     "text": [
      "Sistema compatible determinado -> 1 Solución\n",
      "La solucion es: {x: 2, z: -1, y: 2}\n"
     ]
    },
    {
     "data": {
      "text/plain": [
       "array([6, 3, 2, 5], dtype=object)"
      ]
     },
     "execution_count": 20,
     "metadata": {},
     "output_type": "execute_result"
    }
   ],
   "source": [
    "import numpy as np\n",
    "from sympy import Symbol, solve\n",
    "\n",
    "A = np.matrix([\n",
    "    [2,1,0],\n",
    "    [2,0,1],\n",
    "    [2,-1,0],\n",
    "    [3,0,1]\n",
    "])\n",
    "\n",
    "B = np.matrix([\n",
    "    [6],\n",
    "    [3],\n",
    "    [2],\n",
    "    [5]\n",
    "])\n",
    "\n",
    "A_amp = np.matrix([\n",
    "    [2,1,0,6],\n",
    "    [2,0,1,3],\n",
    "    [2,-1,0,2],\n",
    "    [3,0,1,5]\n",
    "])\n",
    "# Miramos si tiene soluciones\n",
    "soluciones(A,A_amp)\n",
    "\n",
    "# Como tiene solución, la buscamos con sympy\n",
    "x=Symbol('x')\n",
    "y=Symbol('y')\n",
    "z=Symbol('z')\n",
    "s =solve([2*x+y-6,\n",
    "          2*x+z-3,\n",
    "          2*x-y-2,\n",
    "          3*x+z-5],\n",
    "          [x,y,z]\n",
    "         )\n",
    "print 'La solucion es:',s\n",
    "\n",
    "# Comprobamos que realmente obtenemos el vector [6,3,2,5]\n",
    "s[x]*np.array([2,2,2,3]) + s[y] * np.array([1,0,-1,0]) + s[z] * np.array([0,1,0,1])"
   ]
  },
  {
   "cell_type": "markdown",
   "metadata": {},
   "source": [
    "Por tanto la representación en coordenadas de v en terminos de los vectores [2, 2, 2, 3], [1, 0, −1, 0], [0, 1, 0, 1] es [2,2,-1] ya que 2[2, 2, 2, 3] + 2[1, 0, −1, 0] - 1[0, 1, 0, 1] = [6, 3, 2, 5]\n"
   ]
  },
  {
   "cell_type": "markdown",
   "metadata": {},
   "source": [
    "<span style=\"color:blue\"> Ejercicio 11:  \n",
    "Supongamos que queremos diseñar la red de internet para el otro campus universitario.  \n",
    "La red debe lograr la misma conectividad que el grafo de entrada.  \n",
    "Una arista representa un posible cable.  \n",
    "El peso de la arista es el coste de instalar el cable.  \n",
    "Nuestro objetivo es minimizar el coste total, usando el algoritmo Grow y el algoritmo Shrink.  </style> "
   ]
  },
  {
   "cell_type": "markdown",
   "metadata": {},
   "source": [
    "![No se puede mostrar](Images/grafoCiudades.jpg)  \n",
    "\n",
    "** Algoritmo Grow**  \n",
    "Colocamos las aristas en orden creciente según sus pesos: 2,7,9  \n",
    "Cogemos la arista {Pembroke Campus, Bio Med} y la añadimos a S.  \n",
    "Hay que añadir el nodo Athletic Complex. Lo podemos hacer de dos maneras:\n",
    "   * {Pembroke Campus,Athletic Complex} con un peso de 7  \n",
    "   * {Bio Med, Athletic Complex} con un peso de 9  \n",
    "Escogemos el de menor peso {Pembroke Campus,Athletic Complex} y lo añadimos a S.  \n",
    "Como ya tenemos todos los nodos ya hemos terminado y tenemos un peso final de **2 + 7 = 9**\n",
    "\n",
    "\n",
    "** Algoritmo Shrink**   \n",
    "Colocamos las aristas en orden decreciente según sus pesos: 9,7,2  \n",
    "La arista que mas peso tiene es {Bio Med, Athletic Campus}  \n",
    "Si la quitamos aun podemos ir de Bio Med a Athletic Campus (pasando por Pembroke Campus)  \n",
    "Nos queda por tanto S = {{Pembroke Campus, Bio Med},{Pembroke Campus, Athletic Campus}}  \n",
    "No se puede eliminar ninguna otra arista, por tanto nos queda un peso de **2 + 7 = 9**\n"
   ]
  },
  {
   "cell_type": "markdown",
   "metadata": {},
   "source": [
    "<span style=\"color:blue\"> Ejercicio 12:  \n",
    "Sea la matriz $\n",
    "  M=\n",
    "  \\left[ {\\begin{array}{cc}\n",
    "   1 & 0  & 0 & 5 \\\\\n",
    "   0 & 2  & 0 & 7 \\\\\n",
    "   0 & 0  & 3 & 9 \\\\\n",
    "  \\end{array} } \\right]\n",
    "$. Calcular el rango por filas y por columnas usando Python.</style> "
   ]
  },
  {
   "cell_type": "code",
   "execution_count": 21,
   "metadata": {},
   "outputs": [
    {
     "name": "stdout",
     "output_type": "stream",
     "text": [
      "El rango por filas de M es:  3\n",
      "El rango por columndas de M es:  3\n"
     ]
    }
   ],
   "source": [
    "import numpy as np\n",
    "\n",
    "M = np.matrix([\n",
    "    [1,0,0,5],\n",
    "    [0,2,0,7],\n",
    "    [0,0,3,9]\n",
    "])\n",
    "M_trans = np.transpose(M)\n",
    "\n",
    "rango_filas_M = np.linalg.matrix_rank(M)\n",
    "rango_columnas_M = np.linalg.matrix_rank(M_trans)\n",
    "\n",
    "print 'El rango por filas de M es: ', rango_filas_M\n",
    "print 'El rango por columndas de M es: ', rango_columnas_M"
   ]
  },
  {
   "cell_type": "markdown",
   "metadata": {
    "collapsed": true
   },
   "source": [
    "<span style=\"color:blue\"> Ejercicio 13 (opcional):  \n",
    "Crea un algoritmo que transforme una matriz cualquiera en GF(2) en una matriz escalonada.</style> "
   ]
  },
  {
   "cell_type": "markdown",
   "metadata": {},
   "source": [
    "<span style=\"color:blue\"> Ejercicio 14:  \n",
    "Modificar lo necesario en los algoritmos para que funcionen y calculen el problema de la casa en llamas.</style>"
   ]
  },
  {
   "cell_type": "markdown",
   "metadata": {},
   "source": [
    "Si usamos arrays de numpy, para hacer el producto escalar de dos vectores debemos usar la función **dot**"
   ]
  },
  {
   "cell_type": "code",
   "execution_count": 22,
   "metadata": {
    "collapsed": true
   },
   "outputs": [],
   "source": [
    "def proyeccion_paralela(b, a):\n",
    "    aa = np.dot(a,a.T)\n",
    "    sigma = np.dot(a,b.T)/float(aa) if aa > 10^-20 else 0\n",
    "    #print sigma\n",
    "    return [sigma * a[i] for i in range(len(a))]\n",
    "\n",
    "def proyeccion_ortogonal(b, a):\n",
    "    return b - proyeccion_paralela(b, a)"
   ]
  },
  {
   "cell_type": "code",
   "execution_count": 23,
   "metadata": {},
   "outputs": [
    {
     "name": "stdout",
     "output_type": "stream",
     "text": [
      "El punto mas cercano a b es [ 3.0 , 1.0 ]\n",
      "La distancia a b es:  3.16227766017\n"
     ]
    }
   ],
   "source": [
    "import numpy as np\n",
    "a=np.array([6,2])\n",
    "b=np.array([2,4])\n",
    "p = proyeccion_paralela(b,a)\n",
    "\n",
    "print 'El punto mas cercano a b es [',p[0],',',p[1],']'\n",
    "print 'La distancia a b es: ',np.linalg.norm(proyeccion_ortogonal(b,a))"
   ]
  },
  {
   "cell_type": "markdown",
   "metadata": {},
   "source": [
    "<span style=\"color:blue\">Comentarios sobre el módulo</style>"
   ]
  },
  {
   "cell_type": "markdown",
   "metadata": {},
   "source": [
    "Aunque este modulo es eminentemente teórico (y creo que la teoria es muy necesaria), echo en falta relacionarlo de alguna manera con casos prácticos orientados al análisis de datos.  \n",
    "Supongo que el módulo es muy básico y debe ser difícil relacionarlo con un caso práctico, pero creo que esto nos motivaria un poco,si no, te quedas un poco como diciendo \"OK he repasado el algebra de BUP o COU, y?\"\n",
    "\n",
    "Entiendo que esto son las bases para cosas como la regresión y el deep learning que supongo veremos mas adelante, pero no estaría demás dar unas pinceladas. Si tenemos miedo de hacer que el contenido de los módulos se solapen, entonces en mi opinión quedan demasiado inconexos.\n",
    "\n",
    "Por otro lado, el hecho de explicarlo con los notebooks está muy bien pero hecho en falta algún tipo de pizarra donde el profesor pudiese escribir, dibujar, resaltar cosas para aclarar mejor los conceptos y ser más ágiles.\n",
    "\n",
    "De todas formas, para el \"rollo\" teórico que ha sido, lo has hecho bastante ameno. Gracias!\n"
   ]
  },
  {
   "cell_type": "code",
   "execution_count": null,
   "metadata": {
    "collapsed": true
   },
   "outputs": [],
   "source": []
  }
 ],
 "metadata": {
  "kernelspec": {
   "display_name": "Python 2",
   "language": "python",
   "name": "python2"
  },
  "language_info": {
   "codemirror_mode": {
    "name": "ipython",
    "version": 2
   },
   "file_extension": ".py",
   "mimetype": "text/x-python",
   "name": "python",
   "nbconvert_exporter": "python",
   "pygments_lexer": "ipython2",
   "version": "2.7.14"
  }
 },
 "nbformat": 4,
 "nbformat_minor": 2
}
